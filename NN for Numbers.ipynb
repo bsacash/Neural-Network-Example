{
 "cells": [
  {
   "cell_type": "code",
   "execution_count": 1,
   "metadata": {
    "collapsed": true
   },
   "outputs": [],
   "source": [
    "import random\n",
    "import math"
   ]
  },
  {
   "cell_type": "code",
   "execution_count": 2,
   "metadata": {
    "collapsed": true
   },
   "outputs": [],
   "source": [
    "def dot(v,w):\n",
    "    return sum(v_i* w_i for v_i, w_i, in zip(v,w))\n",
    "\n",
    "def step_function(x):\n",
    "    return 1 if x >= 0 else 0\n",
    "\n",
    "#returns 1 if fired, otherwise 0\n",
    "def perceptron_output(weights, bias, x):\n",
    "    return step_function(dot(weights, x) + bias)\n",
    "\n",
    "def sigmoid(t):\n",
    "    return 1 / (1 + math.exp(-t))\n",
    "\n",
    "def neuron_output(weights, inputs):\n",
    "    return sigmoid(dot(weights, inputs))\n",
    "\n",
    "#returns output from forward-propagating the intput (as weights)\n",
    "def feed_forward(neural_network, input_vector):\n",
    "    outputs = []\n",
    "\n",
    "    for layer in neural_network:\n",
    "        #add bias\n",
    "        input_with_bias = input_vector + [1]\n",
    "        #find output\n",
    "        output = [neuron_output(neuron, input_with_bias) for neuron in layer]                  \n",
    "        outputs.append(output)                          \n",
    "        input_vector = output\n",
    "    return outputs\n",
    "\n",
    "def backpropagate(network, input_vector, target):\n",
    "\n",
    "    hidden_outputs, outputs = feed_forward(network, input_vector)\n",
    "    output_deltas = [output * (1 - output) * (output - target[i])\n",
    "                     for i, output in enumerate(outputs)]\n",
    "\n",
    "    #adjust weights for output layer\n",
    "    for i, output_neuron in enumerate(network[-1]):\n",
    "        for j, hidden_output in enumerate(hidden_outputs + [1]):\n",
    "            output_neuron[j] -= output_deltas[i] * hidden_output\n",
    "\n",
    "    #back propagate errors to hidden layer\n",
    "    hidden_deltas = [hidden_output * (1 - hidden_output) *\n",
    "                      dot(output_deltas, [n[i] for n in network[-1]])\n",
    "                     for i, hidden_output in enumerate(hidden_outputs)]\n",
    "\n",
    "    #adjust weights for hidden layer\n",
    "    for i, hidden_neuron in enumerate(network[0]):\n",
    "        for j, input in enumerate(input_vector + [1]):\n",
    "            hidden_neuron[j] -= hidden_deltas[i] * input"
   ]
  },
  {
   "cell_type": "code",
   "execution_count": 3,
   "metadata": {
    "collapsed": true
   },
   "outputs": [],
   "source": [
    "#each number is represented by a vector of length 25\n",
    "zero = [1,1,1,1,1,\n",
    "        1,0,0,0,1,\n",
    "        1,0,0,0,1,\n",
    "        1,0,0,0,1,\n",
    "        1,1,1,1,1]\n",
    "\n",
    "one =  [0,0,1,0,0,\n",
    "        0,0,1,0,0,\n",
    "        0,0,1,0,0,\n",
    "        0,0,1,0,0,\n",
    "        0,0,1,0,0]\n",
    "\n",
    "two =  [1,1,1,1,1,\n",
    "        0,0,0,0,1,\n",
    "        1,1,1,1,1,\n",
    "        1,0,0,0,0,\n",
    "        1,1,1,1,1]\n",
    "\n",
    "three =[1,1,1,1,1,\n",
    "        0,0,0,0,1,\n",
    "        1,1,1,1,1,\n",
    "        0,0,0,0,1,\n",
    "        1,1,1,1,1]\n",
    "\n",
    "four = [1,0,0,0,1,\n",
    "        1,0,0,0,1,\n",
    "        1,1,1,1,1,\n",
    "        0,0,0,0,1,\n",
    "        0,0,0,0,1]\n",
    "\n",
    "five = [1,1,1,1,1,\n",
    "        1,0,0,0,0,\n",
    "        1,1,1,1,1,\n",
    "        0,0,0,0,1,\n",
    "        1,1,1,1,1]\n",
    "\n",
    "six =  [1,1,1,1,1,\n",
    "        1,0,0,0,0,\n",
    "        1,1,1,1,1,\n",
    "        1,0,0,0,1,\n",
    "        1,1,1,1,1]\n",
    "\n",
    "seven= [1,1,1,1,1,\n",
    "        0,0,0,0,1,\n",
    "        0,0,0,0,1,\n",
    "        0,0,0,0,1,\n",
    "        0,0,0,0,1]\n",
    "\n",
    "eight =[1,1,1,1,1,\n",
    "        1,0,0,0,1,\n",
    "        1,1,1,1,1,\n",
    "        1,0,0,0,1,\n",
    "        1,1,1,1,1]\n",
    "\n",
    "nine = [1,1,1,1,1,\n",
    "        1,0,0,0,1,\n",
    "        1,1,1,1,1,\n",
    "        0,0,0,0,1,\n",
    "        1,1,1,1,1]\n",
    "\n",
    "inputs =[zero,one,two,three,four,five,six,seven,eight,nine]"
   ]
  },
  {
   "cell_type": "code",
   "execution_count": 4,
   "metadata": {
    "collapsed": true
   },
   "outputs": [],
   "source": [
    "targets = [[1 if i == j else 0 for i in range(10)]\n",
    "               for j in range(10)]"
   ]
  },
  {
   "cell_type": "code",
   "execution_count": 5,
   "metadata": {
    "collapsed": true
   },
   "outputs": [],
   "source": [
    "input_size = 25  #vector length for inputs\n",
    "num_hidden = 5   #number of neurons in the hidden layer\n",
    "output_size = 10 #number of outputs"
   ]
  },
  {
   "cell_type": "code",
   "execution_count": 6,
   "metadata": {
    "collapsed": true
   },
   "outputs": [],
   "source": [
    "hidden_layer = [[random.random() for n in range(input_size + 1)]\n",
    "                    for m in range(num_hidden)]\n",
    "\n",
    "output_layer = [[random.random() for n in range(num_hidden + 1)]\n",
    "                    for m in range(output_size)]\n",
    "\n",
    "network = [hidden_layer, output_layer]"
   ]
  },
  {
   "cell_type": "code",
   "execution_count": 7,
   "metadata": {
    "collapsed": true
   },
   "outputs": [],
   "source": [
    "for n in range(5000):\n",
    "        for input_vector, target_vector in zip(inputs, targets):\n",
    "            backpropagate(network, input_vector, target_vector)"
   ]
  },
  {
   "cell_type": "code",
   "execution_count": 8,
   "metadata": {
    "collapsed": true
   },
   "outputs": [],
   "source": [
    "def prediction(input):\n",
    "        return feed_forward(network, input)[-1]"
   ]
  },
  {
   "cell_type": "code",
   "execution_count": 9,
   "metadata": {
    "collapsed": false
   },
   "outputs": [
    {
     "data": {
      "text/plain": [
       "[1.887305451337583e-12,\n",
       " 0.9473711643751938,\n",
       " 4.973686538954107e-05,\n",
       " 0.05591320018560991,\n",
       " 0.041474442258668295,\n",
       " 0.00018103570878963415,\n",
       " 7.810094858779779e-10,\n",
       " 2.870831944871901e-09,\n",
       " 0.0005146291633329484,\n",
       " 0.01711653111587277]"
      ]
     },
     "execution_count": 9,
     "metadata": {},
     "output_type": "execute_result"
    }
   ],
   "source": [
    "prediction(inputs[1])"
   ]
  },
  {
   "cell_type": "code",
   "execution_count": null,
   "metadata": {
    "collapsed": true
   },
   "outputs": [],
   "source": []
  }
 ],
 "metadata": {
  "kernelspec": {
   "display_name": "Python 2",
   "language": "python",
   "name": "python2"
  },
  "language_info": {
   "codemirror_mode": {
    "name": "ipython",
    "version": 2
   },
   "file_extension": ".py",
   "mimetype": "text/x-python",
   "name": "python",
   "nbconvert_exporter": "python",
   "pygments_lexer": "ipython2",
   "version": "2.7.11"
  }
 },
 "nbformat": 4,
 "nbformat_minor": 0
}
